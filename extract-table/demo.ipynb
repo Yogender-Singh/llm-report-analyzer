{
 "cells": [
  {
   "cell_type": "code",
   "execution_count": 3,
   "id": "78351eec-5e63-4f67-8d28-c5b438172218",
   "metadata": {},
   "outputs": [
    {
     "ename": "ValueError",
     "evalue": "Rect: bad seq len",
     "output_type": "error",
     "traceback": [
      "\u001b[0;31m---------------------------------------------------------------------------\u001b[0m",
      "\u001b[0;31mValueError\u001b[0m                                Traceback (most recent call last)",
      "\u001b[0;32m/tmp/ipykernel_21532/446114493.py\u001b[0m in \u001b[0;36m?\u001b[0;34m()\u001b[0m\n\u001b[0;32m----> 7\u001b[0;31m \u001b[0;32mimport\u001b[0m \u001b[0mfitz\u001b[0m\u001b[0;34m\u001b[0m\u001b[0;34m\u001b[0m\u001b[0m\n\u001b[0m\u001b[1;32m      8\u001b[0m \u001b[0;34m\u001b[0m\u001b[0m\n\u001b[1;32m      9\u001b[0m \u001b[0;32mfrom\u001b[0m \u001b[0mParseTab\u001b[0m \u001b[0;32mimport\u001b[0m \u001b[0mParseTab\u001b[0m\u001b[0;34m\u001b[0m\u001b[0;34m\u001b[0m\u001b[0m\n\u001b[1;32m     10\u001b[0m \u001b[0;34m\u001b[0m\u001b[0m\n",
      "\u001b[0;32m~/lab/report_generator/extract-table/ParseTab.py\u001b[0m in \u001b[0;36m?\u001b[0;34m(page, bbox, columns)\u001b[0m\n\u001b[1;32m     39\u001b[0m     \u001b[0mReturns\u001b[0m \u001b[0mthe\u001b[0m \u001b[0mparsed\u001b[0m \u001b[0mtable\u001b[0m \u001b[0;32mas\u001b[0m \u001b[0ma\u001b[0m \u001b[0mlist\u001b[0m \u001b[0mof\u001b[0m \u001b[0mlists\u001b[0m \u001b[0mof\u001b[0m \u001b[0mstrings\u001b[0m\u001b[0;34m.\u001b[0m\u001b[0;34m\u001b[0m\u001b[0;34m\u001b[0m\u001b[0m\n\u001b[1;32m     40\u001b[0m     \u001b[0mThe\u001b[0m \u001b[0mnumber\u001b[0m \u001b[0mof\u001b[0m \u001b[0mrows\u001b[0m \u001b[0;32mis\u001b[0m \u001b[0mdetermined\u001b[0m \u001b[0mautomatically\u001b[0m\u001b[0;34m\u001b[0m\u001b[0;34m\u001b[0m\u001b[0m\n\u001b[1;32m     41\u001b[0m     \u001b[0;32mfrom\u001b[0m \u001b[0mparsing\u001b[0m \u001b[0mthe\u001b[0m \u001b[0mspecified\u001b[0m \u001b[0mrectangle\u001b[0m\u001b[0;34m.\u001b[0m\u001b[0;34m\u001b[0m\u001b[0;34m\u001b[0m\u001b[0m\n\u001b[1;32m     42\u001b[0m     \"\"\"\n\u001b[0;32m---> 43\u001b[0;31m     \u001b[0mtab_rect\u001b[0m \u001b[0;34m=\u001b[0m \u001b[0mfitz\u001b[0m\u001b[0;34m.\u001b[0m\u001b[0mRect\u001b[0m\u001b[0;34m(\u001b[0m\u001b[0mbbox\u001b[0m\u001b[0;34m)\u001b[0m\u001b[0;34m.\u001b[0m\u001b[0mirect\u001b[0m\u001b[0;34m\u001b[0m\u001b[0;34m\u001b[0m\u001b[0m\n\u001b[0m\u001b[1;32m     44\u001b[0m     \u001b[0mxmin\u001b[0m\u001b[0;34m,\u001b[0m \u001b[0mymin\u001b[0m\u001b[0;34m,\u001b[0m \u001b[0mxmax\u001b[0m\u001b[0;34m,\u001b[0m \u001b[0mymax\u001b[0m \u001b[0;34m=\u001b[0m \u001b[0mtuple\u001b[0m\u001b[0;34m(\u001b[0m\u001b[0mtab_rect\u001b[0m\u001b[0;34m)\u001b[0m\u001b[0;34m\u001b[0m\u001b[0;34m\u001b[0m\u001b[0m\n\u001b[1;32m     45\u001b[0m \u001b[0;34m\u001b[0m\u001b[0m\n\u001b[1;32m     46\u001b[0m     \u001b[0;32mif\u001b[0m \u001b[0mtab_rect\u001b[0m\u001b[0;34m.\u001b[0m\u001b[0mis_empty\u001b[0m \u001b[0;32mor\u001b[0m \u001b[0mtab_rect\u001b[0m\u001b[0;34m.\u001b[0m\u001b[0mis_infinite\u001b[0m\u001b[0;34m:\u001b[0m\u001b[0;34m\u001b[0m\u001b[0;34m\u001b[0m\u001b[0m\n",
      "\u001b[0;32m~/miniconda3/envs/rg/lib/python3.9/site-packages/fitz/fitz.py\u001b[0m in \u001b[0;36m?\u001b[0;34m(self, *args)\u001b[0m\n\u001b[1;32m    922\u001b[0m     \u001b[0;32mdef\u001b[0m \u001b[0m__init__\u001b[0m\u001b[0;34m(\u001b[0m\u001b[0mself\u001b[0m\u001b[0;34m,\u001b[0m \u001b[0;34m*\u001b[0m\u001b[0margs\u001b[0m\u001b[0;34m)\u001b[0m\u001b[0;34m:\u001b[0m\u001b[0;34m\u001b[0m\u001b[0;34m\u001b[0m\u001b[0m\n\u001b[0;32m--> 923\u001b[0;31m         \u001b[0mself\u001b[0m\u001b[0;34m.\u001b[0m\u001b[0mx0\u001b[0m\u001b[0;34m,\u001b[0m \u001b[0mself\u001b[0m\u001b[0;34m.\u001b[0m\u001b[0my0\u001b[0m\u001b[0;34m,\u001b[0m \u001b[0mself\u001b[0m\u001b[0;34m.\u001b[0m\u001b[0mx1\u001b[0m\u001b[0;34m,\u001b[0m \u001b[0mself\u001b[0m\u001b[0;34m.\u001b[0m\u001b[0my1\u001b[0m \u001b[0;34m=\u001b[0m \u001b[0mutil_make_rect\u001b[0m\u001b[0;34m(\u001b[0m\u001b[0margs\u001b[0m\u001b[0;34m)\u001b[0m\u001b[0;34m\u001b[0m\u001b[0;34m\u001b[0m\u001b[0m\n\u001b[0m\u001b[1;32m    924\u001b[0m         \u001b[0;32mreturn\u001b[0m \u001b[0;32mNone\u001b[0m\u001b[0;34m\u001b[0m\u001b[0;34m\u001b[0m\u001b[0m\n",
      "\u001b[0;32m~/miniconda3/envs/rg/lib/python3.9/site-packages/fitz/fitz.py\u001b[0m in \u001b[0;36m?\u001b[0;34m(a)\u001b[0m\n\u001b[1;32m    430\u001b[0m \u001b[0;32mdef\u001b[0m \u001b[0mutil_make_rect\u001b[0m\u001b[0;34m(\u001b[0m\u001b[0ma\u001b[0m\u001b[0;34m)\u001b[0m\u001b[0;34m:\u001b[0m\u001b[0;34m\u001b[0m\u001b[0;34m\u001b[0m\u001b[0m\n\u001b[0;32m--> 431\u001b[0;31m     \u001b[0;32mreturn\u001b[0m \u001b[0m_fitz\u001b[0m\u001b[0;34m.\u001b[0m\u001b[0mutil_make_rect\u001b[0m\u001b[0;34m(\u001b[0m\u001b[0ma\u001b[0m\u001b[0;34m)\u001b[0m\u001b[0;34m\u001b[0m\u001b[0;34m\u001b[0m\u001b[0m\n\u001b[0m",
      "\u001b[0;31mValueError\u001b[0m: Rect: bad seq len"
     ]
    }
   ],
   "source": [
    "import fitz\n",
    "\n",
    "from ParseTab import ParseTab\n",
    "\n",
    "doc = fitz.Document('input.pdf')\n",
    "\n",
    "table = ParseTab(doc, 20, [0, 0, 500, 700])"
   ]
  },
  {
   "cell_type": "code",
   "execution_count": 14,
   "id": "1e2e4345-e8f4-41f9-abbd-c5dbe5d40335",
   "metadata": {},
   "outputs": [
    {
     "name": "stdout",
     "output_type": "stream",
     "text": [
      "warning: table bottom delimiter not found - using end of page\n",
      "HDFC Life\n",
      "['Results Update']\n",
      "['Road to APE growth passes through HDFC Bank']\n",
      "['In 4QFY23, APE/VNB were 29%/30% above our forecast due to stronger-than-']\n",
      "['expected demand within agency and broker channels. FY23 VNB margin']\n",
      "['(27.6%) neutrality was achieved as mix shift was offset by the integration of Stock Information']\n",
      "['low-margin Exide Life business. Hereon, a key focus will be the company’s APE']\n",
      "['Bloomberg Code: HDFCLIFE IN']\n",
      "['growth trajectory. We see HDFC Life well-placed to deliver +15% APE growth']\n",
      "['CMP (Rs): 532']\n",
      "['over FY24-26 driven by: i) growth opportunities within HDFC Bank, ii)']\n",
      "['TP (Rs): 630']\n",
      "['penetration opportunities within lower-tier cities, iii) new distribution']\n",
      "['Mcap (Rs bn/US$ bn): 1,142/14']\n",
      "['partnerships, and iv) productivity improvements. While VNB margins are likely']\n",
      "['to remain rangebound over FY24-26, as HDFC Life invests in distribution and']\n",
      "['3M MDV (Rs mn/US$ mn): 1,908/23.1']\n",
      "['technology, we see this as a prudent strategy noting: i) competition could']\n",
      "['increase post recent regulatory changes, and ii) the opportunity to increase']\n",
      "['life insurance penetration within the country. Our TP of Rs630 implies 2.5x FY25']\n",
      "['Stock Performance (%)']\n",
      "['EV.']\n",
      "['1M 3M 12M YTD']\n",
      "['Expect FY24 APE to grow by +16% on an adjusted base']\n",
      "['Absolute 8 (9) (3) (6)']\n",
      "['Rel. to Sensex 3 (11) (10) (5)']\n",
      "['We estimate the impact of high ticket size policies on FY23 APE was Rs18.6bn (~14%).']\n",
      "['This comprises: i) Rs10bn APE increase in Mar’23 due to higher non-par savings']\n",
      "['Source: ICE, Ambit Capital research']\n",
      "['demand, and ii) Rs8.6bn impact from higher ticket size policies during the remainder']\n",
      "['of the year. Our FY24E APE forecast of Rs131bn assumes +16% growth, similar to']\n",
      "['Ambit Estimates (Rs bn)']\n",
      "['normalized run-rate in FY23, on the adjusted FY23 APE base. We see APE growth over']\n",
      "['FY24-26 (2-year CAGR: 15%) being driven by: i) increased counter share within HDFC']\n",
      "['FY24E FY25E FY26E']\n",
      "['Bank, ii) contribution from new HDFC Bank branches, iii) improvement in agent']\n",
      "['APE 131 154 172']\n",
      "['productivity as new agents mature, and iv) new corporate agent partners, such as AU']\n",
      "['VNB 36 43 48']\n",
      "['Bank and India Post Bank.']\n",
      "['VNB Margin 27% 28% 28%']\n",
      "['Need to invest will keep margins rangebound']\n",
      "['Source: Ambit Capital research, Company']\n",
      "['The company expects VNB margin to remain flat in FY24E w.r.t FY23 (27.6%). This is a']\n",
      "['result of increased share of higher margin protection being offset by investments Project']\n",
      "['Inspire (Rs1bn investment in cloud technology, integration with partners in FY24 and']\n",
      "['FY25) and distribution (deployment of sales representatives in new HDFC Bank']\n",
      "['branches and new banca partners). We expect margins to be rangebound over FY24-']\n",
      "['26 (20-40bps annual improvement) as HDFC Life invests in the business to counter']\n",
      "['competition which could emerge due to new EOM guidelines and tax changes.']\n",
      "['HDFC Bank/HDFC Ltd merger opens new opportunities for HDFC Life']\n",
      "['Last Friday, HDFC Bank and HDFC Ltd received RBI’s approval to increase stake within']\n",
      "['HDFC Life to 50% (current 47.8%). While the increase in stake can be through a primary']\n",
      "['capital infusion or secondary purchase, HDFC Life indicated the likelihood of a']\n",
      "['secondary purchase is greater as the company does not have any capital requirements']\n",
      "['at the moment. Currently, HDFC Life’s share within HDFC Bank is 55%. We see scope']\n",
      "['for this to improve to 70% post the merger.']\n",
      "['Earnings changes']\n",
      "['We increase our FY24-25 APE and VNB by 14-18%. This is the result of: i) a better-']\n",
      "['than-expected 4QFY23, and ii) improvement in FY24-25 margins due to strong retail']\n",
      "['Research Analysts']\n",
      "['protection momentum. Our TP increases by +7% to Rs630 due to higher earnings.']\n",
      "['Supratim Datta']\n",
      "['Where to from here?']\n",
      "['+91 22 6623 3252']\n",
      "['supratim.datta@ambit.co']\n",
      "['We maintain our BUY rating with a TP of Rs630. HDFC Life appears well-placed to']\n",
      "['Pankaj Agarwal, CFA']\n",
      "['deliver >15% APE growth on an adjusted basis over the medium term driven by: i)']\n",
      "['+91 22 6623 3206']\n",
      "['growth opportunities within HDFC Bank, ii) penetration opportunities within lower-tier']\n",
      "['cities, iii) new distribution partnerships, and iv) productivity improvements. The stock is pankaj.agarwal@ambit.co']\n",
      "['trading at 2.1x FY25 EV.']\n",
      "['Rajat Sonika']\n",
      "['+91 22 6623 3050']\n",
      "['rajat.sonika@ambit.co']\n",
      "['Ambit Capital Pvt. Ltd. April 27, 2023']\n",
      "['rajat.sonika@ambit.co 2023-04-27 Thursday 09:03:55']\n",
      "  Results Update Road to APE growth passes through HDFC Bank In 4QFY23, APE/VNB were 29%/30% above our forecast due to stronger-than- expected demand within agency and broker channels. FY23 VNB margin (27.6%) neutrality was achieved as mix shift was offset by the integration of Stock Information low-margin Exide Life business. Hereon, a key focus will be the company’s APE Bloomberg Code: HDFCLIFE IN growth trajectory. We see HDFC Life well-placed to deliver +15% APE growth CMP (Rs): 532 over FY24-26 driven by: i) growth opportunities within HDFC Bank, ii) TP (Rs): 630 penetration opportunities within lower-tier cities, iii) new distribution Mcap (Rs bn/US$ bn): 1,142/14 partnerships, and iv) productivity improvements. While VNB margins are likely to remain rangebound over FY24-26, as HDFC Life invests in distribution and 3M MDV (Rs mn/US$ mn): 1,908/23.1 technology, we see this as a prudent strategy noting: i) competition could increase post recent regulatory changes, and ii) the opportunity to increase life insurance penetration within the country. Our TP of Rs630 implies 2.5x FY25 Stock Performance (%) EV. 1M 3M 12M YTD Expect FY24 APE to grow by +16% on an adjusted base Absolute 8 (9) (3) (6) Rel. to Sensex 3 (11) (10) (5) We estimate the impact of high ticket size policies on FY23 APE was Rs18.6bn (~14%). This comprises: i) Rs10bn APE increase in Mar’23 due to higher non-par savings Source: ICE, Ambit Capital research demand, and ii) Rs8.6bn impact from higher ticket size policies during the remainder of the year. Our FY24E APE forecast of Rs131bn assumes +16% growth, similar to Ambit Estimates (Rs bn) normalized run-rate in FY23, on the adjusted FY23 APE base. We see APE growth over FY24-26 (2-year CAGR: 15%) being driven by: i) increased counter share within HDFC FY24E FY25E FY26E Bank, ii) contribution from new HDFC Bank branches, iii) improvement in agent APE 131 154 172 productivity as new agents mature, and iv) new corporate agent partners, such as AU VNB 36 43 48 Bank and India Post Bank. VNB Margin 27% 28% 28% Need to invest will keep margins rangebound Source: Ambit Capital research, Company The company expects VNB margin to remain flat in FY24E w.r.t FY23 (27.6%). This is a result of increased share of higher margin protection being offset by investments Project Inspire (Rs1bn investment in cloud technology, integration with partners in FY24 and FY25) and distribution (deployment of sales representatives in new HDFC Bank branches and new banca partners). We expect margins to be rangebound over FY24- 26 (20-40bps annual improvement) as HDFC Life invests in the business to counter competition which could emerge due to new EOM guidelines and tax changes. HDFC Bank/HDFC Ltd merger opens new opportunities for HDFC Life Last Friday, HDFC Bank and HDFC Ltd received RBI’s approval to increase stake within HDFC Life to 50% (current 47.8%). While the increase in stake can be through a primary capital infusion or secondary purchase, HDFC Life indicated the likelihood of a secondary purchase is greater as the company does not have any capital requirements at the moment. Currently, HDFC Life’s share within HDFC Bank is 55%. We see scope for this to improve to 70% post the merger. Earnings changes We increase our FY24-25 APE and VNB by 14-18%. This is the result of: i) a better- than-expected 4QFY23, and ii) improvement in FY24-25 margins due to strong retail Research Analysts protection momentum. Our TP increases by +7% to Rs630 due to higher earnings. Supratim Datta Where to from here? +91 22 6623 3252 supratim.datta@ambit.co We maintain our BUY rating with a TP of Rs630. HDFC Life appears well-placed to Pankaj Agarwal, CFA deliver >15% APE growth on an adjusted basis over the medium term driven by: i) +91 22 6623 3206 growth opportunities within HDFC Bank, ii) penetration opportunities within lower-tier cities, iii) new distribution partnerships, and iv) productivity improvements. The stock is pankaj.agarwal@ambit.co trading at 2.1x FY25 EV. Rajat Sonika +91 22 6623 3050 rajat.sonika@ambit.co Ambit Capital Pvt. Ltd. April 27, 2023 rajat.sonika@ambit.co 2023-04-27 Thursday 09:03:55\n"
     ]
    }
   ],
   "source": [
    "\"\"\"\n",
    "CLI program to extract tables using ParseTab\n",
    "-------------------------------------------------------------------------------\n",
    "License: GNU GPL V3\n",
    "(c) 2023 Jorj X. McKie\n",
    "\n",
    "Usage\n",
    "-----\n",
    "python extract.py\n",
    "\n",
    "Description\n",
    "-----------\n",
    "The ParseTab function parses tables in a document page (PDF, OpenXPS, EPUB) and\n",
    "passes back a list of strings representing the original table.\n",
    "\n",
    "Dependencies\n",
    "------------\n",
    "PyMuPDF\n",
    "\"\"\"\n",
    "\n",
    "from __future__ import print_function\n",
    "import fitz\n",
    "from ParseTab import ParseTab\n",
    "\n",
    "# ==============================================================================\n",
    "# Main program\n",
    "# ==============================================================================\n",
    "\"\"\" This is just a stub to illustrate the functioning of ParseTab.\n",
    "After reading a page, we\n",
    "(1) search the strings that encapsulate our table\n",
    "(2) from coordinates of those string occurences, we define the surrounding\n",
    "    rectangle. We use zero or large numbers to specify \"no limit\".\n",
    "(3) call ParseTab to get the parsed table\n",
    "\"\"\"\n",
    "doc = fitz.Document(\"../Input_Documents/Ambit_HDFC Life_FY23.pdf\")\n",
    "pno = 0\n",
    "page = doc.load_page(pno)\n",
    "\n",
    "# ==============================================================================\n",
    "# search for top of table\n",
    "# ==============================================================================\n",
    "table_title = \"HDFC Life\"\n",
    "search1 = page.search_for(table_title, hit_max=1)\n",
    "if not search1:\n",
    "    raise ValueError(\"table top delimiter not found\")\n",
    "rect1 = search1[0]  # the rectangle surrounding the search string\n",
    "ymin = rect1.y1  # the table starts below this value\n",
    "\n",
    "# ==============================================================================\n",
    "# search for bottom of table\n",
    "# ==============================================================================\n",
    "search2 = page.search_for(\"2.19\", hit_max=1)\n",
    "if not search2:\n",
    "    print(\"warning: table bottom delimiter not found - using end of page\")\n",
    "    ymax = 2000\n",
    "else:\n",
    "    rect2 = search2[0]  # the rectangle that surrounds the search string\n",
    "    ymax = rect2.y0  # the table ends above this value\n",
    "\n",
    "if not ymin < ymax:  # something went wrong with searching strings\n",
    "    raise ValueError(\"table bottom delimiter higher than top\")\n",
    "\n",
    "# ==============================================================================\n",
    "# print the table\n",
    "# ==============================================================================\n",
    "tab = ParseTab(page, [0, ymin, 9999, ymax])\n",
    "print(table_title)\n",
    "text_ = \" \"\n",
    "for t in tab:\n",
    "    text_ += \" \" + t[0] \n",
    "    print(t)\n",
    "print(text_)    "
   ]
  },
  {
   "cell_type": "code",
   "execution_count": 88,
   "id": "a1d2d30e-f577-4b64-a9de-21ed7d0baab2",
   "metadata": {},
   "outputs": [],
   "source": [
    "import re\n",
    "\n",
    "def use_regex(input_text):\n",
    "    pattern = re.findall(r\"^\\bVNB Margin\\b\\s([0-9]{1,2}% ){2}[0-9]{1,2}%\",input_text)\n",
    "    \n",
    "    return pattern"
   ]
  },
  {
   "cell_type": "code",
   "execution_count": 89,
   "id": "71957f21-3d0c-48fd-80f0-3daf152055e6",
   "metadata": {},
   "outputs": [
    {
     "data": {
      "text/plain": [
       "'  Results Update Road to APE growth passes through HDFC Bank In 4QFY23, APE/VNB were 29%/30% above our forecast due to stronger-than- expected demand within agency and broker channels. FY23 VNB margin (27.6%) neutrality was achieved as mix shift was offset by the integration of Stock Information low-margin Exide Life business. Hereon, a key focus will be the company’s APE Bloomberg Code: HDFCLIFE IN growth trajectory. We see HDFC Life well-placed to deliver +15% APE growth CMP (Rs): 532 over FY24-26 driven by: i) growth opportunities within HDFC Bank, ii) TP (Rs): 630 penetration opportunities within lower-tier cities, iii) new distribution Mcap (Rs bn/US$ bn): 1,142/14 partnerships, and iv) productivity improvements. While VNB margins are likely to remain rangebound over FY24-26, as HDFC Life invests in distribution and 3M MDV (Rs mn/US$ mn): 1,908/23.1 technology, we see this as a prudent strategy noting: i) competition could increase post recent regulatory changes, and ii) the opportunity to increase life insurance penetration within the country. Our TP of Rs630 implies 2.5x FY25 Stock Performance (%) EV. 1M 3M 12M YTD Expect FY24 APE to grow by +16% on an adjusted base Absolute 8 (9) (3) (6) Rel. to Sensex 3 (11) (10) (5) We estimate the impact of high ticket size policies on FY23 APE was Rs18.6bn (~14%). This comprises: i) Rs10bn APE increase in Mar’23 due to higher non-par savings Source: ICE, Ambit Capital research demand, and ii) Rs8.6bn impact from higher ticket size policies during the remainder of the year. Our FY24E APE forecast of Rs131bn assumes +16% growth, similar to Ambit Estimates (Rs bn) normalized run-rate in FY23, on the adjusted FY23 APE base. We see APE growth over FY24-26 (2-year CAGR: 15%) being driven by: i) increased counter share within HDFC FY24E FY25E FY26E Bank, ii) contribution from new HDFC Bank branches, iii) improvement in agent APE 131 154 172 productivity as new agents mature, and iv) new corporate agent partners, such as AU VNB 36 43 48 Bank and India Post Bank. VNB Margin 27% 28% 28% Need to invest will keep margins rangebound Source: Ambit Capital research, Company The company expects VNB margin to remain flat in FY24E w.r.t FY23 (27.6%). This is a result of increased share of higher margin protection being offset by investments Project Inspire (Rs1bn investment in cloud technology, integration with partners in FY24 and FY25) and distribution (deployment of sales representatives in new HDFC Bank branches and new banca partners). We expect margins to be rangebound over FY24- 26 (20-40bps annual improvement) as HDFC Life invests in the business to counter competition which could emerge due to new EOM guidelines and tax changes. HDFC Bank/HDFC Ltd merger opens new opportunities for HDFC Life Last Friday, HDFC Bank and HDFC Ltd received RBI’s approval to increase stake within HDFC Life to 50% (current 47.8%). While the increase in stake can be through a primary capital infusion or secondary purchase, HDFC Life indicated the likelihood of a secondary purchase is greater as the company does not have any capital requirements at the moment. Currently, HDFC Life’s share within HDFC Bank is 55%. We see scope for this to improve to 70% post the merger. Earnings changes We increase our FY24-25 APE and VNB by 14-18%. This is the result of: i) a better- than-expected 4QFY23, and ii) improvement in FY24-25 margins due to strong retail Research Analysts protection momentum. Our TP increases by +7% to Rs630 due to higher earnings. Supratim Datta Where to from here? +91 22 6623 3252 supratim.datta@ambit.co We maintain our BUY rating with a TP of Rs630. HDFC Life appears well-placed to Pankaj Agarwal, CFA deliver >15% APE growth on an adjusted basis over the medium term driven by: i) +91 22 6623 3206 growth opportunities within HDFC Bank, ii) penetration opportunities within lower-tier cities, iii) new distribution partnerships, and iv) productivity improvements. The stock is pankaj.agarwal@ambit.co trading at 2.1x FY25 EV. Rajat Sonika +91 22 6623 3050 rajat.sonika@ambit.co Ambit Capital Pvt. Ltd. April 27, 2023 rajat.sonika@ambit.co 2023-04-27 Thursday 09:03:55'"
      ]
     },
     "execution_count": 89,
     "metadata": {},
     "output_type": "execute_result"
    }
   ],
   "source": [
    "text_"
   ]
  },
  {
   "cell_type": "code",
   "execution_count": 90,
   "id": "fb20dc5b-5d55-452d-8f33-c9f07416a305",
   "metadata": {},
   "outputs": [
    {
     "name": "stdout",
     "output_type": "stream",
     "text": [
      "[]\n"
     ]
    }
   ],
   "source": [
    "print(use_regex(text_))"
   ]
  },
  {
   "cell_type": "code",
   "execution_count": 75,
   "id": "ae0947e3-c3e9-4d61-b940-1312453e8df3",
   "metadata": {},
   "outputs": [
    {
     "name": "stdout",
     "output_type": "stream",
     "text": [
      "False\n"
     ]
    }
   ],
   "source": [
    "import re\n",
    "str = 'VNB Margin'\n",
    "found = re.findall(r\"VNB Margin ([0-9]{1,2}% ){2}[0-9]{1,2}%\",str)\n",
    "\n",
    "print(len(found)>0)"
   ]
  },
  {
   "cell_type": "code",
   "execution_count": 64,
   "id": "a45e14c2-5bb6-4d4b-838c-f93b6916290d",
   "metadata": {},
   "outputs": [
    {
     "data": {
      "text/plain": [
       "['VNB Margin']"
      ]
     },
     "execution_count": 64,
     "metadata": {},
     "output_type": "execute_result"
    }
   ],
   "source": [
    "found"
   ]
  },
  {
   "cell_type": "code",
   "execution_count": 74,
   "id": "90581668-946d-4a82-8e98-a4f91cdfbebf",
   "metadata": {},
   "outputs": [
    {
     "name": "stdout",
     "output_type": "stream",
     "text": [
      "True\n"
     ]
    }
   ],
   "source": [
    "import re\n",
    "str = 'VNB Margin 27% 28% 28%'\n",
    "found = re.findall(r\"VNB Margin ([0-9]{1,2}% ){2}[0-9]{1,2}%\",str)\n",
    "\n",
    "print(len(found)>0)"
   ]
  },
  {
   "cell_type": "code",
   "execution_count": null,
   "id": "2f551c23-1a4b-487f-86ea-c8345394ba50",
   "metadata": {},
   "outputs": [],
   "source": []
  }
 ],
 "metadata": {
  "kernelspec": {
   "display_name": "Python 3 (ipykernel)",
   "language": "python",
   "name": "python3"
  },
  "language_info": {
   "codemirror_mode": {
    "name": "ipython",
    "version": 3
   },
   "file_extension": ".py",
   "mimetype": "text/x-python",
   "name": "python",
   "nbconvert_exporter": "python",
   "pygments_lexer": "ipython3",
   "version": "3.9.0"
  }
 },
 "nbformat": 4,
 "nbformat_minor": 5
}
