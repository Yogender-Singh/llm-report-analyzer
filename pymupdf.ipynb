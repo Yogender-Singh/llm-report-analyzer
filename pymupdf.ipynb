{
 "cells": [
  {
   "cell_type": "code",
   "execution_count": 1,
   "id": "0b64e02f-dcbb-4ee9-8aac-3bd4331f3b8f",
   "metadata": {},
   "outputs": [
    {
     "name": "stdout",
     "output_type": "stream",
     "text": [
      "Collecting PyMuPDF\n",
      "  Downloading PyMuPDF-1.22.5-cp39-cp39-manylinux_2_17_x86_64.manylinux2014_x86_64.whl (14.1 MB)\n",
      "\u001b[2K     \u001b[38;2;114;156;31m━━━━━━━━━━━━━━━━━━━━━━━━━━━━━━━━━━━━━━━━\u001b[0m \u001b[32m14.1/14.1 MB\u001b[0m \u001b[31m4.3 MB/s\u001b[0m eta \u001b[36m0:00:00\u001b[0mm eta \u001b[36m0:00:01\u001b[0m[36m0:00:01\u001b[0m\n",
      "\u001b[?25hInstalling collected packages: PyMuPDF\n",
      "Successfully installed PyMuPDF-1.22.5\n"
     ]
    }
   ],
   "source": [
    "!pip install PyMuPDF"
   ]
  },
  {
   "cell_type": "code",
   "execution_count": 2,
   "id": "a0fd6b5e-c571-4de9-854c-70e329839412",
   "metadata": {},
   "outputs": [],
   "source": [
    "import fitz\n",
    "import pandas as pd\n",
    "import numpy as np\n",
    "\n",
    "class PDF():\n",
    "    def __init__(self, file):\n",
    "        self.pdf_doc = fitz.open(file)\n",
    "    @staticmethod\n",
    "    def rect_to_svg_line(x1, y1, x2, y2, fill, stroke):\n",
    "        width = x2 - x1\n",
    "        height = y2 - y1\n",
    "\n",
    "        svg_rect = f'<rect x=\"{x1}\" y=\"{y1}\" width=\"{width}\" height=\"{height}\" fill=\"{fill}\" stroke=\"{stroke}\" />\\n'\n",
    "        return svg_rect\n",
    "    @staticmethod\n",
    "    def merge_bins(arr):\n",
    "        result = []\n",
    "        n = len(arr)\n",
    "        i = 0\n",
    "        while i < n:\n",
    "            if i + 1 < n and arr[i + 1] - arr[i] < 4:\n",
    "                result.append((arr[i + 1] + arr[i]) / 2)\n",
    "                i += 2\n",
    "            else:\n",
    "                result.append(arr[i])\n",
    "                i += 1\n",
    "        result = np.array(result)\n",
    "        return result\n",
    "    def get_layout(self, page, skip_rects=0, fill=\"white\", stroke=\"black\"):\n",
    "        pdf_page = self.pdf_doc[int(page)]\n",
    "        mediabox = pdf_page.mediabox\n",
    "        width = mediabox.x1 - mediabox.x0\n",
    "        height = mediabox.y1 - mediabox.y0\n",
    "        svg_lines = ''\n",
    "        for rect in pdf_page.get_drawings()[skip_rects:]:\n",
    "            x1, y1, x2, y2 = rect['rect'][0], rect['rect'][1], rect['rect'][2], rect['rect'][3]\n",
    "            svg_lines += self.rect_to_svg_line(x1, y1, x2, y2, fill, stroke)\n",
    "        svg_content = f'<svg xmlns=\"http://www.w3.org/2000/svg\" width=\"{width}\" height=\"{height}\" viewBox=\"0 0 {width} {height}\">\\n' \\\n",
    "          f'<rect x=\"0\" y=\"0\" width=\"{width}\" height=\"{height}\" fill=\"white\" />\\n' \\\n",
    "          f'{svg_lines}' \\\n",
    "          f'</svg>'\n",
    "        return svg_content\n",
    "\n",
    "    def multipage_table(self, pages, headers, skip_rows=0, skip_cols=0, skip_rects=0):\n",
    "        df = pd.DataFrame()\n",
    "        r_ind=-1\n",
    "        for p in pages:\n",
    "            pdf_page = self.pdf_doc[int(p)]\n",
    "\n",
    "            x1_values = []\n",
    "            y1_values = []\n",
    "            for rect in pdf_page.get_drawings()[skip_rects:]:\n",
    "                x1_values.append(rect['rect'][0])\n",
    "                y1_values.append(rect['rect'][1])\n",
    "            x_bins = np.sort(list(set(x1_values)))\n",
    "            y_bins = np.sort(list(set(y1_values)))\n",
    "            y_grid = self.merge_bins(y_bins)\n",
    "            x_grid = self.merge_bins(x_bins)\n",
    "\n",
    "            for row in range(skip_rows, len(y_grid)-1):\n",
    "                r_ind+=1\n",
    "                y1, y2 = y_grid[row],y_grid[row+1]\n",
    "\n",
    "                for col in range(skip_cols, len(x_grid)-1):\n",
    "                    x1, x2 = x_grid[col],x_grid[col+1]\n",
    "                    cell_text = pdf_page.get_text(\"text\", clip=(x1, y1, x2, y2))  # Extract text within cell boundaries\n",
    "                    df.loc[r_ind,headers[col]] = cell_text.replace(\"\\n\",\"\")\n",
    "        return df"
   ]
  },
  {
   "cell_type": "code",
   "execution_count": 10,
   "id": "c11ff02d-9c89-473c-ac89-c4a6312f5266",
   "metadata": {},
   "outputs": [
    {
     "ename": "TypeError",
     "evalue": "'PDF' object is not iterable",
     "output_type": "error",
     "traceback": [
      "\u001b[0;31m---------------------------------------------------------------------------\u001b[0m",
      "\u001b[0;31mTypeError\u001b[0m                                 Traceback (most recent call last)",
      "Cell \u001b[0;32mIn[10], line 15\u001b[0m\n\u001b[1;32m     13\u001b[0m file \u001b[38;5;241m=\u001b[39m \u001b[38;5;124m'\u001b[39m\u001b[38;5;124mInput_Documents/Ambit_HDFC Life_FY23.pdf\u001b[39m\u001b[38;5;124m'\u001b[39m\n\u001b[1;32m     14\u001b[0m pdf_file \u001b[38;5;241m=\u001b[39m PDF(file)\n\u001b[0;32m---> 15\u001b[0m svg_content \u001b[38;5;241m=\u001b[39m \u001b[43mpdf_file\u001b[49m\u001b[38;5;241;43m.\u001b[39;49m\u001b[43mmultipage_table\u001b[49m\u001b[43m(\u001b[49m\u001b[43mpdf_file\u001b[49m\u001b[43m,\u001b[49m\u001b[43mheaders\u001b[49m\u001b[38;5;241;43m=\u001b[39;49m\u001b[43m[\u001b[49m\u001b[38;5;124;43m\"\u001b[39;49m\u001b[38;5;124;43m\"\u001b[39;49m\u001b[43m]\u001b[49m\u001b[43m,\u001b[49m\u001b[43m \u001b[49m\u001b[43mskip_rects\u001b[49m\u001b[38;5;241;43m=\u001b[39;49m\u001b[38;5;241;43m1\u001b[39;49m\u001b[43m)\u001b[49m\n\u001b[1;32m     16\u001b[0m SVG(svg_content)\n\u001b[1;32m     18\u001b[0m \u001b[38;5;66;03m# If the format is good you can proceed to extract tables\u001b[39;00m\n\u001b[1;32m     19\u001b[0m \u001b[38;5;66;03m# pages = np.linspace(39,56,18)\u001b[39;00m\n\u001b[1;32m     20\u001b[0m \u001b[38;5;66;03m# df = pdf_file.multipage_table(pages, headers=columns, skip_rows=4, skip_cols=0, skip_rects=1)\u001b[39;00m\n\u001b[1;32m     21\u001b[0m \u001b[38;5;66;03m# df.to_csv(\"out.csv\", index=False)\u001b[39;00m\n",
      "Cell \u001b[0;32mIn[2], line 47\u001b[0m, in \u001b[0;36mPDF.multipage_table\u001b[0;34m(self, pages, headers, skip_rows, skip_cols, skip_rects)\u001b[0m\n\u001b[1;32m     45\u001b[0m df \u001b[38;5;241m=\u001b[39m pd\u001b[38;5;241m.\u001b[39mDataFrame()\n\u001b[1;32m     46\u001b[0m r_ind\u001b[38;5;241m=\u001b[39m\u001b[38;5;241m-\u001b[39m\u001b[38;5;241m1\u001b[39m\n\u001b[0;32m---> 47\u001b[0m \u001b[38;5;28;01mfor\u001b[39;00m p \u001b[38;5;129;01min\u001b[39;00m pages:\n\u001b[1;32m     48\u001b[0m     pdf_page \u001b[38;5;241m=\u001b[39m \u001b[38;5;28mself\u001b[39m\u001b[38;5;241m.\u001b[39mpdf_doc[\u001b[38;5;28mint\u001b[39m(p)]\n\u001b[1;32m     50\u001b[0m     x1_values \u001b[38;5;241m=\u001b[39m []\n",
      "\u001b[0;31mTypeError\u001b[0m: 'PDF' object is not iterable"
     ]
    }
   ],
   "source": [
    "from IPython.display import SVG\n",
    "\n",
    "page_number = 39\n",
    "columns=[\n",
    "    \"<1>\", \"<2>\", \"<3>\", \n",
    "    \"<4>\", \"<5>\", \"<6>\", \n",
    "    \"<7>\", \"<8>\", \"<9>\",\n",
    "    \"<10>\", \"<11>\",\n",
    "    \"<12>\",\n",
    "    \"<13>\", \"<14>\",\n",
    "    \"<15>\"\n",
    "]\n",
    "file = 'Input_Documents/Ambit_HDFC Life_FY23.pdf'\n",
    "pdf_file = PDF(file)\n",
    "svg_content = pdf_file.multipage_table(pdf_file,headers=[\"\"], skip_rects=1)\n",
    "SVG(svg_content)\n",
    "\n",
    "# If the format is good you can proceed to extract tables\n",
    "# pages = np.linspace(39,56,18)\n",
    "# df = pdf_file.multipage_table(pages, headers=columns, skip_rows=4, skip_cols=0, skip_rects=1)\n",
    "# df.to_csv(\"out.csv\", index=False)"
   ]
  },
  {
   "cell_type": "code",
   "execution_count": 5,
   "id": "ac7ad1f4-8a27-4e3b-9b6f-19e99fb18ded",
   "metadata": {},
   "outputs": [
    {
     "ename": "AttributeError",
     "evalue": "'PDF' object has no attribute 'page'",
     "output_type": "error",
     "traceback": [
      "\u001b[0;31m---------------------------------------------------------------------------\u001b[0m",
      "\u001b[0;31mAttributeError\u001b[0m                            Traceback (most recent call last)",
      "Cell \u001b[0;32mIn[5], line 1\u001b[0m\n\u001b[0;32m----> 1\u001b[0m \u001b[43mpdf_file\u001b[49m\u001b[38;5;241;43m.\u001b[39;49m\u001b[43mpage\u001b[49m\n",
      "\u001b[0;31mAttributeError\u001b[0m: 'PDF' object has no attribute 'page'"
     ]
    }
   ],
   "source": [
    "pdf_file.page"
   ]
  },
  {
   "cell_type": "code",
   "execution_count": null,
   "id": "d14dd46e-affa-4442-a2a6-a8200f11f180",
   "metadata": {},
   "outputs": [],
   "source": []
  }
 ],
 "metadata": {
  "kernelspec": {
   "display_name": "Python 3 (ipykernel)",
   "language": "python",
   "name": "python3"
  },
  "language_info": {
   "codemirror_mode": {
    "name": "ipython",
    "version": 3
   },
   "file_extension": ".py",
   "mimetype": "text/x-python",
   "name": "python",
   "nbconvert_exporter": "python",
   "pygments_lexer": "ipython3",
   "version": "3.9.0"
  }
 },
 "nbformat": 4,
 "nbformat_minor": 5
}
